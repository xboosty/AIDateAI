{
  "nbformat": 4,
  "nbformat_minor": 0,
  "metadata": {
    "colab": {
      "provenance": []
    },
    "kernelspec": {
      "name": "python3",
      "display_name": "Python 3"
    },
    "language_info": {
      "name": "python"
    }
  },
  "cells": [
    {
      "cell_type": "code",
      "source": [
        "!pip install matplotlib"
      ],
      "metadata": {
        "colab": {
          "base_uri": "https://localhost:8080/"
        },
        "id": "PhkzGRW4-FWh",
        "outputId": "029c7d46-0a74-40b8-ed3f-a8a31997c054"
      },
      "execution_count": 1,
      "outputs": [
        {
          "output_type": "stream",
          "name": "stdout",
          "text": [
            "Requirement already satisfied: matplotlib in /usr/local/lib/python3.10/dist-packages (3.7.1)\n",
            "Requirement already satisfied: contourpy>=1.0.1 in /usr/local/lib/python3.10/dist-packages (from matplotlib) (1.1.1)\n",
            "Requirement already satisfied: cycler>=0.10 in /usr/local/lib/python3.10/dist-packages (from matplotlib) (0.12.1)\n",
            "Requirement already satisfied: fonttools>=4.22.0 in /usr/local/lib/python3.10/dist-packages (from matplotlib) (4.43.1)\n",
            "Requirement already satisfied: kiwisolver>=1.0.1 in /usr/local/lib/python3.10/dist-packages (from matplotlib) (1.4.5)\n",
            "Requirement already satisfied: numpy>=1.20 in /usr/local/lib/python3.10/dist-packages (from matplotlib) (1.23.5)\n",
            "Requirement already satisfied: packaging>=20.0 in /usr/local/lib/python3.10/dist-packages (from matplotlib) (23.2)\n",
            "Requirement already satisfied: pillow>=6.2.0 in /usr/local/lib/python3.10/dist-packages (from matplotlib) (9.4.0)\n",
            "Requirement already satisfied: pyparsing>=2.3.1 in /usr/local/lib/python3.10/dist-packages (from matplotlib) (3.1.1)\n",
            "Requirement already satisfied: python-dateutil>=2.7 in /usr/local/lib/python3.10/dist-packages (from matplotlib) (2.8.2)\n",
            "Requirement already satisfied: six>=1.5 in /usr/local/lib/python3.10/dist-packages (from python-dateutil>=2.7->matplotlib) (1.16.0)\n"
          ]
        }
      ]
    },
    {
      "cell_type": "code",
      "execution_count": 24,
      "metadata": {
        "colab": {
          "base_uri": "https://localhost:8080/"
        },
        "id": "9-HgYCezKhoI",
        "outputId": "2773baf4-bb33-4a11-f45a-2db831e622b8"
      },
      "outputs": [
        {
          "output_type": "stream",
          "name": "stdout",
          "text": [
            "Drive already mounted at /content/drive; to attempt to forcibly remount, call drive.mount(\"/content/drive\", force_remount=True).\n",
            "Model: \"sequential_14\"\n",
            "_________________________________________________________________\n",
            " Layer (type)                Output Shape              Param #   \n",
            "=================================================================\n",
            " dense_64 (Dense)            (None, 32)                672       \n",
            "                                                                 \n",
            " dense_65 (Dense)            (None, 16)                528       \n",
            "                                                                 \n",
            " dense_66 (Dense)            (None, 8)                 136       \n",
            "                                                                 \n",
            " dense_67 (Dense)            (None, 1)                 9         \n",
            "                                                                 \n",
            " lambda_14 (Lambda)          (None, 1)                 0         \n",
            "                                                                 \n",
            "=================================================================\n",
            "Total params: 1345 (5.25 KB)\n",
            "Trainable params: 1345 (5.25 KB)\n",
            "Non-trainable params: 0 (0.00 Byte)\n",
            "_________________________________________________________________\n",
            "Epoch 1/50\n",
            "75/75 [==============================] - 1s 5ms/step - loss: 660.5275 - val_loss: 198.1050\n",
            "Epoch 2/50\n",
            "75/75 [==============================] - 0s 3ms/step - loss: 195.9106 - val_loss: 143.6216\n",
            "Epoch 3/50\n",
            "75/75 [==============================] - 0s 3ms/step - loss: 145.2565 - val_loss: 118.1645\n",
            "Epoch 4/50\n",
            "75/75 [==============================] - 0s 3ms/step - loss: 122.4188 - val_loss: 109.6176\n",
            "Epoch 5/50\n",
            "75/75 [==============================] - 0s 3ms/step - loss: 110.5208 - val_loss: 104.0702\n",
            "Epoch 6/50\n",
            "75/75 [==============================] - 0s 3ms/step - loss: 105.3866 - val_loss: 102.2996\n",
            "Epoch 7/50\n",
            "75/75 [==============================] - 0s 3ms/step - loss: 99.6588 - val_loss: 96.0489\n",
            "Epoch 8/50\n",
            "75/75 [==============================] - 0s 3ms/step - loss: 96.0657 - val_loss: 94.7614\n",
            "Epoch 9/50\n",
            "75/75 [==============================] - 0s 3ms/step - loss: 94.1714 - val_loss: 92.0243\n",
            "Epoch 10/50\n",
            "75/75 [==============================] - 0s 3ms/step - loss: 90.5402 - val_loss: 89.0067\n",
            "Epoch 11/50\n",
            "75/75 [==============================] - 0s 4ms/step - loss: 88.1439 - val_loss: 93.4805\n",
            "Epoch 12/50\n",
            "75/75 [==============================] - 0s 5ms/step - loss: 87.0426 - val_loss: 85.1454\n",
            "Epoch 13/50\n",
            "75/75 [==============================] - 0s 4ms/step - loss: 83.8486 - val_loss: 84.2448\n",
            "Epoch 14/50\n",
            "75/75 [==============================] - 0s 5ms/step - loss: 82.4859 - val_loss: 81.2812\n",
            "Epoch 15/50\n",
            "75/75 [==============================] - 0s 4ms/step - loss: 80.6176 - val_loss: 80.7343\n",
            "Epoch 16/50\n",
            "75/75 [==============================] - 0s 4ms/step - loss: 78.2272 - val_loss: 78.8322\n",
            "Epoch 17/50\n",
            "75/75 [==============================] - 0s 4ms/step - loss: 77.9757 - val_loss: 77.7087\n",
            "Epoch 18/50\n",
            "75/75 [==============================] - 0s 4ms/step - loss: 76.6231 - val_loss: 77.2454\n",
            "Epoch 19/50\n",
            "75/75 [==============================] - 0s 4ms/step - loss: 74.4266 - val_loss: 79.1579\n",
            "Epoch 20/50\n",
            "75/75 [==============================] - 0s 4ms/step - loss: 73.8787 - val_loss: 78.6971\n",
            "Epoch 21/50\n",
            "75/75 [==============================] - 0s 4ms/step - loss: 72.9582 - val_loss: 75.3275\n",
            "Epoch 22/50\n",
            "75/75 [==============================] - 0s 4ms/step - loss: 71.2961 - val_loss: 83.3966\n",
            "Epoch 23/50\n",
            "75/75 [==============================] - 0s 4ms/step - loss: 70.5902 - val_loss: 73.5871\n",
            "Epoch 24/50\n",
            "75/75 [==============================] - 0s 4ms/step - loss: 69.7855 - val_loss: 74.3304\n",
            "Epoch 25/50\n",
            "75/75 [==============================] - 0s 3ms/step - loss: 68.5376 - val_loss: 71.3217\n",
            "Epoch 26/50\n",
            "75/75 [==============================] - 0s 3ms/step - loss: 67.1548 - val_loss: 72.2852\n",
            "Epoch 27/50\n",
            "75/75 [==============================] - 0s 3ms/step - loss: 67.2109 - val_loss: 71.4017\n",
            "Epoch 28/50\n",
            "75/75 [==============================] - 0s 3ms/step - loss: 65.5696 - val_loss: 76.8094\n",
            "Epoch 29/50\n",
            "75/75 [==============================] - 0s 3ms/step - loss: 66.4386 - val_loss: 69.9095\n",
            "Epoch 30/50\n",
            "75/75 [==============================] - 0s 3ms/step - loss: 64.5556 - val_loss: 75.2178\n",
            "Epoch 31/50\n",
            "75/75 [==============================] - 0s 3ms/step - loss: 64.9668 - val_loss: 71.3572\n",
            "Epoch 32/50\n",
            "75/75 [==============================] - 0s 3ms/step - loss: 63.5493 - val_loss: 69.5155\n",
            "Epoch 33/50\n",
            "75/75 [==============================] - 0s 3ms/step - loss: 63.4119 - val_loss: 70.2010\n",
            "Epoch 34/50\n",
            "75/75 [==============================] - 0s 3ms/step - loss: 61.5265 - val_loss: 70.4188\n",
            "Epoch 35/50\n",
            "75/75 [==============================] - 0s 3ms/step - loss: 60.3493 - val_loss: 71.6397\n",
            "Epoch 36/50\n",
            "75/75 [==============================] - 0s 2ms/step - loss: 59.6517 - val_loss: 68.8625\n",
            "Epoch 37/50\n",
            "75/75 [==============================] - 0s 2ms/step - loss: 59.6126 - val_loss: 71.2673\n",
            "Epoch 38/50\n",
            "75/75 [==============================] - 0s 4ms/step - loss: 58.4987 - val_loss: 71.1065\n",
            "Epoch 39/50\n",
            "75/75 [==============================] - 0s 3ms/step - loss: 59.8529 - val_loss: 68.4909\n",
            "Epoch 40/50\n",
            "75/75 [==============================] - 0s 3ms/step - loss: 56.8542 - val_loss: 68.5215\n",
            "Epoch 41/50\n",
            "75/75 [==============================] - 0s 3ms/step - loss: 56.1900 - val_loss: 69.1715\n",
            "Epoch 42/50\n",
            "75/75 [==============================] - 0s 3ms/step - loss: 56.3014 - val_loss: 71.3549\n",
            "Epoch 43/50\n",
            "75/75 [==============================] - 0s 3ms/step - loss: 56.1137 - val_loss: 70.7385\n",
            "Epoch 44/50\n",
            "75/75 [==============================] - 0s 3ms/step - loss: 55.9147 - val_loss: 68.2829\n",
            "Epoch 45/50\n",
            "75/75 [==============================] - 0s 3ms/step - loss: 55.5564 - val_loss: 72.6108\n",
            "Epoch 46/50\n",
            "75/75 [==============================] - 0s 3ms/step - loss: 54.5251 - val_loss: 69.8742\n",
            "Epoch 47/50\n",
            "75/75 [==============================] - 0s 3ms/step - loss: 55.0488 - val_loss: 68.6766\n",
            "Epoch 48/50\n",
            "75/75 [==============================] - 0s 3ms/step - loss: 53.0153 - val_loss: 67.9537\n",
            "Epoch 49/50\n",
            "75/75 [==============================] - 0s 3ms/step - loss: 52.8049 - val_loss: 74.4808\n",
            "Epoch 50/50\n",
            "75/75 [==============================] - 0s 3ms/step - loss: 53.3171 - val_loss: 68.3804\n"
          ]
        }
      ],
      "source": [
        "import pandas as pd\n",
        "import ast\n",
        "import numpy as np\n",
        "from tensorflow import keras\n",
        "import tensorflow as tf\n",
        "\n",
        "# Montar Google Drive si aún no está montado\n",
        "from google.colab import drive\n",
        "drive.mount('/content/drive')\n",
        "\n",
        "# Cargar el dataset desde Google Drive\n",
        "dataset_path = '/content/drive/My Drive/compatibility_dataset/compatibility_dataset_len5.csv'\n",
        "\n",
        "# Leer el archivo CSV y procesar las listas\n",
        "df = pd.read_csv(dataset_path)\n",
        "\n",
        "# Aplanar y convertir las listas en matrices NumPy\n",
        "def flatten_and_convert(row):\n",
        "    try:\n",
        "        offers_A = ast.literal_eval(row['offers_A'])\n",
        "        demands_A = ast.literal_eval(row['demands_A'])\n",
        "        offers_B = ast.literal_eval(row['offers_B'])\n",
        "        demands_B = ast.literal_eval(row['demands_B'])\n",
        "\n",
        "        flat_data = np.concatenate([offers_A, demands_A, offers_B, demands_B])\n",
        "        return flat_data.astype(np.int32)\n",
        "    except:\n",
        "        return None\n",
        "\n",
        "# Aplicar la función a cada fila del DataFrame\n",
        "X = df.apply(flatten_and_convert, axis=1).dropna().values\n",
        "y = df['compatibility_percent'].dropna().values\n",
        "\n",
        "# Crear un modelo secuencial\n",
        "model = keras.Sequential()\n",
        "\n",
        "# Capas de entrada\n",
        "model.add(keras.layers.Input(shape=(20,)))\n",
        "\n",
        "# Capas de procesamiento con regularización\n",
        "model.add(keras.layers.Dense(32, activation='relu'))\n",
        "model.add(keras.layers.Dense(16, activation='relu'))\n",
        "#model.add(keras.layers.Dropout(0.1))\n",
        "model.add(keras.layers.Dense(8, activation='relu'))\n",
        "\n",
        "\n",
        "# Capa de similitud\n",
        "model.add(keras.layers.Dense(1, activation='linear'))\n",
        "\n",
        "# Capa de salida para limitar la salida en el rango de 0 a 100\n",
        "model.add(keras.layers.Lambda(lambda x: tf.clip_by_value(x, 0, 100)))\n",
        "\n",
        "# Compilar el modelo\n",
        "model.compile(loss='mean_squared_error', optimizer='adam')\n",
        "\n",
        "# Resumen del modelo\n",
        "model.summary()\n",
        "\n",
        "# Entrenar el modelo\n",
        "# Convierte las matrices NumPy en tensores de TensorFlow\n",
        "X_tf = tf.constant(X.tolist())\n",
        "y_tf = tf.constant(y)\n",
        "\n",
        "# Luego, utiliza los tensores en la función model.fit\n",
        "history=model.fit(X_tf, y_tf, epochs=50, validation_split=0.2)\n"
      ]
    },
    {
      "cell_type": "code",
      "source": [
        "import matplotlib.pyplot as plt\n",
        "\n",
        "# Obtener las funciones de pérdida y precisión del historial de entrenamiento\n",
        "loss = history.history['loss']\n",
        "val_loss = history.history['val_loss']\n",
        "#accuracy = history.history['accuracy']  # Solo si estás trabajando en un problema de clasificación\n",
        "\n",
        "# Generar el gráfico de la función de pérdida\n",
        "plt.figure(figsize=(10, 6))\n",
        "plt.plot(loss, label='Train Loss')\n",
        "plt.plot(val_loss, label='Validation Loss')\n",
        "plt.xlabel('Epoch')\n",
        "plt.ylabel('Loss')\n",
        "plt.legend()\n",
        "plt.title('Training and Validation Loss')\n",
        "plt.show()\n",
        "\n",
        "# Generar el gráfico de precisión (solo para problemas de clasificación)\n",
        "#plt.figure(figsize=(10, 6))\n",
        "#plt.plot(accuracy, label='Accuracy')\n",
        "#plt.xlabel('Epoch')\n",
        "#plt.ylabel('Accuracy')\n",
        "#plt.legend()\n",
        "#plt.title('Training Accuracy')\n",
        "#plt.show()\n"
      ],
      "metadata": {
        "colab": {
          "base_uri": "https://localhost:8080/",
          "height": 564
        },
        "id": "EXbnNsFs-ANn",
        "outputId": "1e30ea81-046d-41be-d566-9a233953923a"
      },
      "execution_count": 26,
      "outputs": [
        {
          "output_type": "display_data",
          "data": {
            "text/plain": [
              "<Figure size 1000x600 with 1 Axes>"
            ],
            "image/png": "[encoded data removed]"
          },
          "metadata": {}
        }
      ]
    },
    {
      "cell_type": "code",
      "source": [
        "# Especifica el nombre del archivo .h5 donde deseas guardar el modelo\n",
        "nombre_archivo = \"modelo.h5\"\n",
        "\n",
        "# Guarda el modelo en el archivo .h5\n",
        "model.save(nombre_archivo)"
      ],
      "metadata": {
        "colab": {
          "base_uri": "https://localhost:8080/"
        },
        "id": "Nx2zwEcvXqH5",
        "outputId": "3f8a132a-c484-4678-dfd8-558e3ec5a0c7"
      },
      "execution_count": 27,
      "outputs": [
        {
          "output_type": "stream",
          "name": "stderr",
          "text": [
            "/usr/local/lib/python3.10/dist-packages/keras/src/engine/training.py:3079: UserWarning: You are saving your model as an HDF5 file via `model.save()`. This file format is considered legacy. We recommend using instead the native Keras format, e.g. `model.save('my_model.keras')`.\n",
            "  saving_api.save_model(\n"
          ]
        }
      ]
    }
  ]
}