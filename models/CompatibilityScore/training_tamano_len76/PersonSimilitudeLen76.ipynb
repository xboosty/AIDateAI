{
  "nbformat": 4,
  "nbformat_minor": 0,
  "metadata": {
    "colab": {
      "provenance": []
    },
    "kernelspec": {
      "name": "python3",
      "display_name": "Python 3"
    },
    "language_info": {
      "name": "python"
    }
  },
  "cells": [
    {
      "cell_type": "code",
      "source": [
        "!pip install matplotlib\n",
        "!pip install scikit-learn"
      ],
      "metadata": {
        "colab": {
          "base_uri": "https://localhost:8080/"
        },
        "id": "PhkzGRW4-FWh",
        "outputId": "755a61b7-a2d4-4e34-893e-cfc37fdb5b03"
      },
      "execution_count": null,
      "outputs": [
        {
          "output_type": "stream",
          "name": "stdout",
          "text": [
            "Requirement already satisfied: matplotlib in /usr/local/lib/python3.10/dist-packages (3.7.1)\n",
            "Requirement already satisfied: contourpy>=1.0.1 in /usr/local/lib/python3.10/dist-packages (from matplotlib) (1.2.0)\n",
            "Requirement already satisfied: cycler>=0.10 in /usr/local/lib/python3.10/dist-packages (from matplotlib) (0.12.1)\n",
            "Requirement already satisfied: fonttools>=4.22.0 in /usr/local/lib/python3.10/dist-packages (from matplotlib) (4.44.0)\n",
            "Requirement already satisfied: kiwisolver>=1.0.1 in /usr/local/lib/python3.10/dist-packages (from matplotlib) (1.4.5)\n",
            "Requirement already satisfied: numpy>=1.20 in /usr/local/lib/python3.10/dist-packages (from matplotlib) (1.23.5)\n",
            "Requirement already satisfied: packaging>=20.0 in /usr/local/lib/python3.10/dist-packages (from matplotlib) (23.2)\n",
            "Requirement already satisfied: pillow>=6.2.0 in /usr/local/lib/python3.10/dist-packages (from matplotlib) (9.4.0)\n",
            "Requirement already satisfied: pyparsing>=2.3.1 in /usr/local/lib/python3.10/dist-packages (from matplotlib) (3.1.1)\n",
            "Requirement already satisfied: python-dateutil>=2.7 in /usr/local/lib/python3.10/dist-packages (from matplotlib) (2.8.2)\n",
            "Requirement already satisfied: six>=1.5 in /usr/local/lib/python3.10/dist-packages (from python-dateutil>=2.7->matplotlib) (1.16.0)\n",
            "Requirement already satisfied: scikit-learn in /usr/local/lib/python3.10/dist-packages (1.2.2)\n",
            "Requirement already satisfied: numpy>=1.17.3 in /usr/local/lib/python3.10/dist-packages (from scikit-learn) (1.23.5)\n",
            "Requirement already satisfied: scipy>=1.3.2 in /usr/local/lib/python3.10/dist-packages (from scikit-learn) (1.11.3)\n",
            "Requirement already satisfied: joblib>=1.1.1 in /usr/local/lib/python3.10/dist-packages (from scikit-learn) (1.3.2)\n",
            "Requirement already satisfied: threadpoolctl>=2.0.0 in /usr/local/lib/python3.10/dist-packages (from scikit-learn) (3.2.0)\n"
          ]
        }
      ]
    },
    {
      "cell_type": "code",
      "execution_count": null,
      "metadata": {
        "colab": {
          "base_uri": "https://localhost:8080/"
        },
        "id": "9-HgYCezKhoI",
        "outputId": "360e8f65-5fb3-4017-ecd9-3398dfe8f144"
      },
      "outputs": [
        {
          "output_type": "stream",
          "name": "stdout",
          "text": [
            "Mounted at /content/drive\n",
            "Model: \"sequential\"\n",
            "_________________________________________________________________\n",
            " Layer (type)                Output Shape              Param #   \n",
            "=================================================================\n",
            " dense (Dense)               (None, 128)               19584     \n",
            "                                                                 \n",
            " batch_normalization (Batch  (None, 128)               512       \n",
            " Normalization)                                                  \n",
            "                                                                 \n",
            " dropout (Dropout)           (None, 128)               0         \n",
            "                                                                 \n",
            " dense_1 (Dense)             (None, 64)                8256      \n",
            "                                                                 \n",
            " dense_2 (Dense)             (None, 32)                2080      \n",
            "                                                                 \n",
            " dense_3 (Dense)             (None, 16)                528       \n",
            "                                                                 \n",
            " dense_4 (Dense)             (None, 1)                 17        \n",
            "                                                                 \n",
            " lambda (Lambda)             (None, 1)                 0         \n",
            "                                                                 \n",
            "=================================================================\n",
            "Total params: 30977 (121.00 KB)\n",
            "Trainable params: 30721 (120.00 KB)\n",
            "Non-trainable params: 256 (1.00 KB)\n",
            "_________________________________________________________________\n",
            "Epoch 1/50\n",
            "125/125 [==============================] - 2s 6ms/step - loss: 1254.0479 - val_loss: 796.3206\n",
            "Epoch 2/50\n",
            "125/125 [==============================] - 0s 4ms/step - loss: 97.5267 - val_loss: 267.6109\n",
            "Epoch 3/50\n",
            "125/125 [==============================] - 0s 4ms/step - loss: 80.5681 - val_loss: 133.8707\n",
            "Epoch 4/50\n",
            "125/125 [==============================] - 0s 4ms/step - loss: 68.6750 - val_loss: 84.0410\n",
            "Epoch 5/50\n",
            "125/125 [==============================] - 0s 4ms/step - loss: 61.7158 - val_loss: 79.3571\n",
            "Epoch 6/50\n",
            "125/125 [==============================] - 0s 4ms/step - loss: 57.1284 - val_loss: 76.4386\n",
            "Epoch 7/50\n",
            "125/125 [==============================] - 0s 4ms/step - loss: 51.8512 - val_loss: 73.1634\n",
            "Epoch 8/50\n",
            "125/125 [==============================] - 0s 4ms/step - loss: 47.7366 - val_loss: 79.6329\n",
            "Epoch 9/50\n",
            "125/125 [==============================] - 1s 6ms/step - loss: 44.2469 - val_loss: 76.5410\n",
            "Epoch 10/50\n",
            "125/125 [==============================] - 1s 6ms/step - loss: 43.8381 - val_loss: 81.4864\n",
            "Epoch 11/50\n",
            "125/125 [==============================] - 1s 6ms/step - loss: 40.6697 - val_loss: 79.7121\n",
            "Epoch 12/50\n",
            "125/125 [==============================] - 1s 6ms/step - loss: 39.7729 - val_loss: 84.1973\n",
            "Epoch 13/50\n",
            "125/125 [==============================] - 1s 6ms/step - loss: 36.6661 - val_loss: 82.3297\n",
            "Epoch 14/50\n",
            "125/125 [==============================] - 1s 5ms/step - loss: 35.6376 - val_loss: 81.3206\n",
            "Epoch 15/50\n",
            "125/125 [==============================] - 0s 4ms/step - loss: 33.9073 - val_loss: 81.6603\n",
            "Epoch 16/50\n",
            "125/125 [==============================] - 0s 3ms/step - loss: 33.8231 - val_loss: 81.2489\n",
            "Epoch 17/50\n",
            "125/125 [==============================] - 0s 3ms/step - loss: 30.5155 - val_loss: 87.0672\n",
            "Epoch 18/50\n",
            "125/125 [==============================] - 0s 4ms/step - loss: 31.2570 - val_loss: 91.6798\n",
            "Epoch 19/50\n",
            "125/125 [==============================] - 0s 4ms/step - loss: 30.2029 - val_loss: 89.3152\n",
            "Epoch 20/50\n",
            "125/125 [==============================] - 0s 4ms/step - loss: 29.9103 - val_loss: 89.1983\n",
            "Epoch 21/50\n",
            "125/125 [==============================] - 0s 4ms/step - loss: 29.7930 - val_loss: 92.2884\n",
            "Epoch 22/50\n",
            "125/125 [==============================] - 0s 4ms/step - loss: 29.5754 - val_loss: 84.7346\n",
            "Epoch 23/50\n",
            "125/125 [==============================] - 0s 3ms/step - loss: 29.5723 - val_loss: 87.5673\n",
            "Epoch 24/50\n",
            "125/125 [==============================] - 0s 4ms/step - loss: 26.3972 - val_loss: 87.1383\n",
            "Epoch 25/50\n",
            "125/125 [==============================] - 0s 4ms/step - loss: 25.5119 - val_loss: 90.3353\n",
            "Epoch 26/50\n",
            "125/125 [==============================] - 0s 3ms/step - loss: 25.9660 - val_loss: 87.6484\n",
            "Epoch 27/50\n",
            "125/125 [==============================] - 0s 4ms/step - loss: 24.6324 - val_loss: 86.3523\n",
            "Epoch 28/50\n",
            "125/125 [==============================] - 0s 4ms/step - loss: 23.5115 - val_loss: 85.4610\n",
            "Epoch 29/50\n",
            "125/125 [==============================] - 0s 3ms/step - loss: 23.4041 - val_loss: 89.8129\n",
            "Epoch 30/50\n",
            "125/125 [==============================] - 0s 4ms/step - loss: 23.5195 - val_loss: 85.5260\n",
            "Epoch 31/50\n",
            "125/125 [==============================] - 0s 3ms/step - loss: 21.7806 - val_loss: 87.1374\n",
            "Epoch 32/50\n",
            "125/125 [==============================] - 0s 4ms/step - loss: 20.9898 - val_loss: 87.5457\n",
            "Epoch 33/50\n",
            "125/125 [==============================] - 0s 4ms/step - loss: 21.6257 - val_loss: 96.4700\n",
            "Epoch 34/50\n",
            "125/125 [==============================] - 0s 4ms/step - loss: 19.7436 - val_loss: 87.0760\n",
            "Epoch 35/50\n",
            "125/125 [==============================] - 0s 4ms/step - loss: 21.1343 - val_loss: 85.8951\n",
            "Epoch 36/50\n",
            "125/125 [==============================] - 0s 3ms/step - loss: 19.8176 - val_loss: 90.7075\n",
            "Epoch 37/50\n",
            "125/125 [==============================] - 1s 5ms/step - loss: 20.6096 - val_loss: 86.9137\n",
            "Epoch 38/50\n",
            "125/125 [==============================] - 1s 6ms/step - loss: 20.1986 - val_loss: 90.0957\n",
            "Epoch 39/50\n",
            "125/125 [==============================] - 1s 6ms/step - loss: 19.7136 - val_loss: 95.6396\n",
            "Epoch 40/50\n",
            "125/125 [==============================] - 1s 6ms/step - loss: 18.9430 - val_loss: 85.7974\n",
            "Epoch 41/50\n",
            "125/125 [==============================] - 1s 6ms/step - loss: 19.3000 - val_loss: 84.6194\n",
            "Epoch 42/50\n",
            "125/125 [==============================] - 1s 6ms/step - loss: 17.9161 - val_loss: 85.0971\n",
            "Epoch 43/50\n",
            "125/125 [==============================] - 1s 5ms/step - loss: 19.4902 - val_loss: 83.7140\n",
            "Epoch 44/50\n",
            "125/125 [==============================] - 0s 3ms/step - loss: 19.4193 - val_loss: 85.1073\n",
            "Epoch 45/50\n",
            "125/125 [==============================] - 0s 3ms/step - loss: 20.1908 - val_loss: 90.2542\n",
            "Epoch 46/50\n",
            "125/125 [==============================] - 0s 3ms/step - loss: 19.2758 - val_loss: 86.0037\n",
            "Epoch 47/50\n",
            "125/125 [==============================] - 0s 4ms/step - loss: 19.1331 - val_loss: 89.1879\n",
            "Epoch 48/50\n",
            "125/125 [==============================] - 0s 3ms/step - loss: 18.7550 - val_loss: 81.8944\n",
            "Epoch 49/50\n",
            "125/125 [==============================] - 0s 3ms/step - loss: 19.7970 - val_loss: 89.9232\n",
            "Epoch 50/50\n",
            "125/125 [==============================] - 0s 3ms/step - loss: 17.7465 - val_loss: 85.8378\n"
          ]
        }
      ],
      "source": [
        "import pandas as pd\n",
        "import ast\n",
        "import numpy as np\n",
        "from tensorflow import keras\n",
        "import tensorflow as tf\n",
        "\n",
        "# Montar Google Drive si aún no está montado\n",
        "from google.colab import drive\n",
        "drive.mount('/content/drive')\n",
        "\n",
        "# Cargar el dataset desde Google Drive\n",
        "dataset_path = '/content/drive/My Drive/compatibility_dataset/compatibility_dataset_len76.csv'\n",
        "\n",
        "# Leer el archivo CSV y procesar las listas\n",
        "df = pd.read_csv(dataset_path)\n",
        "\n",
        "\n",
        "# Aplanar y convertir las listas en matrices NumPy\n",
        "def flatten_and_convert(row):\n",
        "    try:\n",
        "        offers_A = ast.literal_eval(row['offers_A'])\n",
        "        demands_A = ast.literal_eval(row['demands_A'])\n",
        "        offers_B = ast.literal_eval(row['offers_B'])\n",
        "        demands_B = ast.literal_eval(row['demands_B'])\n",
        "\n",
        "        flat_data = np.concatenate([offers_A, demands_A, offers_B, demands_B])\n",
        "        return flat_data.astype(np.int32)\n",
        "    except:\n",
        "        return None\n",
        "\n",
        "# Aplicar la función a cada fila del DataFrame\n",
        "X = df.apply(flatten_and_convert, axis=1).dropna().values\n",
        "y = df['compatibility_percent'].dropna().values\n",
        "\n",
        "# Crear un modelo secuencial\n",
        "model = keras.Sequential()\n",
        "\n",
        "# Capas de entrada\n",
        "model.add(keras.layers.Input(shape=(152,)))\n",
        "\n",
        "# Capas de procesamiento con regularización\n",
        "model.add(keras.layers.Dense(128, activation='gelu'))\n",
        "model.add(keras.layers.BatchNormalization())\n",
        "model.add(keras.layers.Dropout(0.1))\n",
        "model.add(keras.layers.Dense(64, activation='relu'))\n",
        "model.add(keras.layers.Dense(32, activation='relu'))\n",
        "model.add(keras.layers.Dense(16, activation='relu'))\n",
        "\n",
        "\n",
        "# Capa de similitud\n",
        "model.add(keras.layers.Dense(1, activation='linear'))\n",
        "\n",
        "# Capa de salida para limitar la salida en el rango de 0 a 100\n",
        "model.add(keras.layers.Lambda(lambda x: tf.clip_by_value(x, 0, 100)))\n",
        "\n",
        "# Compilar el modelo\n",
        "model.compile(loss='mean_squared_error', optimizer='adam')\n",
        "\n",
        "# Resumen del modelo\n",
        "model.summary()\n",
        "\n",
        "# Entrenar el modelo\n",
        "# Convierte las matrices NumPy en tensores de TensorFlow\n",
        "X_tf = tf.constant(X.tolist())\n",
        "y_tf = tf.constant(y)\n",
        "\n",
        "# Luego, utiliza los tensores en la función model.fit\n",
        "history=model.fit(X_tf, y_tf, epochs=50, validation_split=0.2)\n"
      ]
    },
    {
      "cell_type": "code",
      "source": [
        "import matplotlib.pyplot as plt\n",
        "\n",
        "# Obtener las funciones de pérdida y precisión del historial de entrenamiento\n",
        "loss = history.history['loss']\n",
        "val_loss = history.history['val_loss']\n",
        "#accuracy = history.history['accuracy']  # Solo si estás trabajando en un problema de clasificación\n",
        "\n",
        "# Generar el gráfico de la función de pérdida\n",
        "plt.figure(figsize=(10, 6))\n",
        "plt.plot(loss, label='Train Loss')\n",
        "plt.plot(val_loss, label='Validation Loss')\n",
        "plt.xlabel('Epoch')\n",
        "plt.ylabel('Loss')\n",
        "plt.legend()\n",
        "plt.title('Training and Validation Loss')\n",
        "plt.show()\n",
        "\n",
        "# Generar el gráfico de precisión (solo para problemas de clasificación)\n",
        "#plt.figure(figsize=(10, 6))\n",
        "#plt.plot(accuracy, label='Accuracy')\n",
        "#plt.xlabel('Epoch')\n",
        "#plt.ylabel('Accuracy')\n",
        "#plt.legend()\n",
        "#plt.title('Training Accuracy')\n",
        "#plt.show()\n"
      ],
      "metadata": {
        "colab": {
          "base_uri": "https://localhost:8080/",
          "height": 564
        },
        "id": "EXbnNsFs-ANn",
        "outputId": "9e68562a-e899-46ae-d6b9-a35a64c6b093"
      },
      "execution_count": null,
      "outputs": [
        {
          "output_type": "display_data",
          "data": {
            "text/plain": [
              "<Figure size 1000x600 with 1 Axes>"
            ],
            "image/png": "[encoded data removed]"
          },
          "metadata": {}
        }
      ]
    },
    {
      "cell_type": "code",
      "source": [
        "# Especifica el nombre del archivo .h5 donde deseas guardar el modelo\n",
        "nombre_archivo = \"score_model.h5\"\n",
        "\n",
        "# Guarda el modelo en el archivo .h5\n",
        "model.save(nombre_archivo)"
      ],
      "metadata": {
        "colab": {
          "base_uri": "https://localhost:8080/"
        },
        "id": "Nx2zwEcvXqH5",
        "outputId": "a9a9cfc3-39a2-4ffd-b1c3-fe8d65afd098"
      },
      "execution_count": null,
      "outputs": [
        {
          "output_type": "stream",
          "name": "stderr",
          "text": [
            "/usr/local/lib/python3.10/dist-packages/keras/src/engine/training.py:3079: UserWarning: You are saving your model as an HDF5 file via `model.save()`. This file format is considered legacy. We recommend using instead the native Keras format, e.g. `model.save('my_model.keras')`.\n",
            "  saving_api.save_model(\n"
          ]
        }
      ]
    }
  ]
}