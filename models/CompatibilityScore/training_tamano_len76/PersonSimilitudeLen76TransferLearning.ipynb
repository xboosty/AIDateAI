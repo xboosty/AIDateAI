{
  "nbformat": 4,
  "nbformat_minor": 0,
  "metadata": {
    "colab": {
      "provenance": []
    },
    "kernelspec": {
      "name": "python3",
      "display_name": "Python 3"
    },
    "language_info": {
      "name": "python"
    }
  },
  "cells": [
    {
      "cell_type": "code",
      "execution_count": 16,
      "metadata": {
        "colab": {
          "base_uri": "https://localhost:8080/"
        },
        "id": "UZVHcoWR9RWw",
        "outputId": "4f5dbcc8-1701-43e2-9575-6a97204599dc"
      },
      "outputs": [
        {
          "output_type": "stream",
          "name": "stdout",
          "text": [
            "Drive already mounted at /content/drive; to attempt to forcibly remount, call drive.mount(\"/content/drive\", force_remount=True).\n",
            "Epoch 1/80\n",
            "32/32 [==============================] - 1s 9ms/step - loss: 46.9428 - val_loss: 44.2458\n",
            "Epoch 2/80\n",
            "32/32 [==============================] - 0s 5ms/step - loss: 40.7370 - val_loss: 36.8558\n",
            "Epoch 3/80\n",
            "32/32 [==============================] - 0s 5ms/step - loss: 31.7765 - val_loss: 27.2207\n",
            "Epoch 4/80\n",
            "32/32 [==============================] - 0s 4ms/step - loss: 23.1174 - val_loss: 24.0712\n",
            "Epoch 5/80\n",
            "32/32 [==============================] - 0s 4ms/step - loss: 21.6238 - val_loss: 24.0123\n",
            "Epoch 6/80\n",
            "32/32 [==============================] - 0s 5ms/step - loss: 21.5660 - val_loss: 24.0066\n",
            "Epoch 7/80\n",
            "32/32 [==============================] - 0s 4ms/step - loss: 21.6041 - val_loss: 24.0076\n",
            "Epoch 8/80\n",
            "32/32 [==============================] - 0s 5ms/step - loss: 21.6071 - val_loss: 24.0070\n",
            "Epoch 9/80\n",
            "32/32 [==============================] - 0s 5ms/step - loss: 21.5594 - val_loss: 24.0078\n",
            "Epoch 10/80\n",
            "32/32 [==============================] - 0s 4ms/step - loss: 21.5746 - val_loss: 24.0070\n",
            "Epoch 11/80\n",
            "32/32 [==============================] - 0s 4ms/step - loss: 21.5590 - val_loss: 24.0086\n",
            "Epoch 12/80\n",
            "32/32 [==============================] - 0s 5ms/step - loss: 21.5771 - val_loss: 24.0082\n",
            "Epoch 13/80\n",
            "32/32 [==============================] - 0s 4ms/step - loss: 21.5570 - val_loss: 24.0072\n",
            "Epoch 14/80\n",
            "32/32 [==============================] - 0s 5ms/step - loss: 21.5722 - val_loss: 24.0095\n",
            "Epoch 15/80\n",
            "32/32 [==============================] - 0s 4ms/step - loss: 21.5750 - val_loss: 24.0052\n",
            "Epoch 16/80\n",
            "32/32 [==============================] - 0s 5ms/step - loss: 21.5519 - val_loss: 24.0102\n",
            "Epoch 17/80\n",
            "32/32 [==============================] - 0s 5ms/step - loss: 21.5820 - val_loss: 24.0045\n",
            "Epoch 18/80\n",
            "32/32 [==============================] - 0s 5ms/step - loss: 21.5615 - val_loss: 24.0129\n",
            "Epoch 19/80\n",
            "32/32 [==============================] - 0s 5ms/step - loss: 21.5641 - val_loss: 24.0071\n",
            "Epoch 20/80\n",
            "32/32 [==============================] - 0s 4ms/step - loss: 21.5848 - val_loss: 24.0053\n",
            "Epoch 21/80\n",
            "32/32 [==============================] - 0s 4ms/step - loss: 21.5515 - val_loss: 24.0060\n",
            "Epoch 22/80\n",
            "32/32 [==============================] - 0s 5ms/step - loss: 21.5845 - val_loss: 24.0138\n",
            "Epoch 23/80\n",
            "32/32 [==============================] - 0s 5ms/step - loss: 21.5621 - val_loss: 24.0039\n",
            "Epoch 24/80\n",
            "32/32 [==============================] - 0s 4ms/step - loss: 21.5712 - val_loss: 24.0048\n",
            "Epoch 25/80\n",
            "32/32 [==============================] - 0s 4ms/step - loss: 21.6091 - val_loss: 24.0127\n",
            "Epoch 26/80\n",
            "32/32 [==============================] - 0s 4ms/step - loss: 21.5472 - val_loss: 24.0031\n",
            "Epoch 27/80\n",
            "32/32 [==============================] - 0s 5ms/step - loss: 21.6126 - val_loss: 24.0054\n",
            "Epoch 28/80\n",
            "32/32 [==============================] - 0s 4ms/step - loss: 21.5825 - val_loss: 24.0046\n",
            "Epoch 29/80\n",
            "32/32 [==============================] - 0s 5ms/step - loss: 21.5473 - val_loss: 24.0023\n",
            "Epoch 30/80\n",
            "32/32 [==============================] - 0s 4ms/step - loss: 21.5641 - val_loss: 24.0039\n",
            "Epoch 31/80\n",
            "32/32 [==============================] - 0s 5ms/step - loss: 21.5878 - val_loss: 24.0077\n",
            "Epoch 32/80\n",
            "32/32 [==============================] - 0s 5ms/step - loss: 21.5435 - val_loss: 24.0051\n",
            "Epoch 33/80\n",
            "32/32 [==============================] - 0s 5ms/step - loss: 21.6145 - val_loss: 24.0056\n",
            "Epoch 34/80\n",
            "32/32 [==============================] - 0s 5ms/step - loss: 21.5758 - val_loss: 24.0044\n",
            "Epoch 35/80\n",
            "32/32 [==============================] - 0s 5ms/step - loss: 21.5748 - val_loss: 24.0060\n",
            "Epoch 36/80\n",
            "32/32 [==============================] - 0s 5ms/step - loss: 21.5635 - val_loss: 24.0048\n",
            "Epoch 37/80\n",
            "32/32 [==============================] - 0s 4ms/step - loss: 21.5705 - val_loss: 24.0049\n",
            "Epoch 38/80\n",
            "32/32 [==============================] - 0s 5ms/step - loss: 21.5457 - val_loss: 24.0023\n",
            "Epoch 39/80\n",
            "32/32 [==============================] - 0s 5ms/step - loss: 21.5650 - val_loss: 24.0038\n"
          ]
        },
        {
          "output_type": "stream",
          "name": "stderr",
          "text": [
            "/usr/local/lib/python3.10/dist-packages/keras/src/engine/training.py:3079: UserWarning: You are saving your model as an HDF5 file via `model.save()`. This file format is considered legacy. We recommend using instead the native Keras format, e.g. `model.save('my_model.keras')`.\n",
            "  saving_api.save_model(\n"
          ]
        }
      ],
      "source": [
        "from tensorflow.keras.models import load_model, Sequential\n",
        "from tensorflow.keras.layers import Dense\n",
        "from tensorflow.keras.optimizers import Adam\n",
        "import pandas as pd\n",
        "import ast\n",
        "import numpy as np\n",
        "from tensorflow import keras\n",
        "import tensorflow as tf\n",
        "\n",
        "# Montar Google Drive si aún no está montado\n",
        "from google.colab import drive\n",
        "drive.mount('/content/drive')\n",
        "\n",
        "# Cargar el dataset desde Google Drive\n",
        "dataset_path = '/content/drive/My Drive/compatibility_dataset/compatibility_dataset_len76.csv'\n",
        "\n",
        "# Cargar el modelo desde el archivo .h5\n",
        "model = load_model('modelo.h5')\n",
        "\n",
        "# Congelar todas las capas del modelo\n",
        "for layer in model.layers[:-1]:\n",
        "    layer.trainable = False\n",
        "\n",
        "# Cargar el nuevo dataset\n",
        "new_df = pd.read_csv(dataset_path)\n",
        "\n",
        "# Preparar los nuevos datos de entrada y salida\n",
        "def flatten_and_convert(row):\n",
        "    try:\n",
        "        offers_A = ast.literal_eval(row['offers_A'])\n",
        "        demands_A = ast.literal_eval(row['demands_A'])\n",
        "        offers_B = ast.literal_eval(row['offers_B'])\n",
        "        demands_B = ast.literal_eval(row['demands_B'])\n",
        "\n",
        "        flat_data = np.concatenate([offers_A, demands_A, offers_B, demands_B])\n",
        "        return flat_data.astype(np.int32)\n",
        "    except:\n",
        "        return None\n",
        "\n",
        "new_X = new_df.apply(flatten_and_convert, axis=1).dropna().values\n",
        "new_y = new_df['compatibility_percent'].dropna().values\n",
        "\n",
        "# Crear un nuevo modelo\n",
        "new_model = Sequential()\n",
        "\n",
        "# Añadir todas las capas del modelo existente excepto la última\n",
        "for layer in model.layers[:-1]:\n",
        "    new_model.add(layer)\n",
        "\n",
        "# Añadir nuevas capas\n",
        "new_model.add(keras.layers.Dense(64, activation='relu'))\n",
        "new_model.add(keras.layers.Dense(32, activation='relu'))\n",
        "\n",
        "# Añadir la capa de salida del modelo original\n",
        "new_model.add(model.layers[-1])\n",
        "\n",
        "# Reduce la tasa de aprendizaje\n",
        "custom_optimizer = Adam(learning_rate=0.001)\n",
        "\n",
        "# Compilar el nuevo modelo\n",
        "#new_model.compile(loss='mean_squared_error', optimizer=custom_optimizer)\n",
        "new_model.compile(loss='mean_absolute_error', optimizer=custom_optimizer)\n",
        "\n",
        "\n",
        "# Convertir las matrices NumPy en tensores de TensorFlow\n",
        "new_X_tf = tf.constant(new_X.tolist())\n",
        "new_y_tf = tf.constant(new_y)\n",
        "\n",
        "# Controla el entrenamiento según la convergencia\n",
        "early_stopping = keras.callbacks.EarlyStopping(monitor='val_loss', patience=10)\n",
        "\n",
        "# Entrenar el nuevo modelo con los nuevos datos\n",
        "history = new_model.fit(new_X_tf, new_y_tf, batch_size=128, epochs=80, validation_split=0.2, callbacks=[early_stopping])\n",
        "\n",
        "# Guardar el nuevo modelo\n",
        "new_model.save('new_model.h5')"
      ]
    },
    {
      "cell_type": "code",
      "source": [
        "# Construir el modelo manualmente\n",
        "new_model.build(input_shape=(None, 152))\n",
        "\n",
        "# Resumen del modelo\n",
        "new_model.summary()"
      ],
      "metadata": {
        "colab": {
          "base_uri": "https://localhost:8080/"
        },
        "id": "HSMimvwGLhYW",
        "outputId": "e6425a42-9522-4534-e0c5-d517a8b3f2ca"
      },
      "execution_count": 12,
      "outputs": [
        {
          "output_type": "stream",
          "name": "stdout",
          "text": [
            "Model: \"sequential_10\"\n",
            "_________________________________________________________________\n",
            " Layer (type)                Output Shape              Param #   \n",
            "=================================================================\n",
            " dense_82 (Dense)            (None, 128)               19584     \n",
            "                                                                 \n",
            " batch_normalization_12 (Ba  (None, 128)               512       \n",
            " tchNormalization)                                               \n",
            "                                                                 \n",
            " dropout_13 (Dropout)        (None, 128)               0         \n",
            "                                                                 \n",
            " dense_83 (Dense)            (None, 64)                8256      \n",
            "                                                                 \n",
            " dense_84 (Dense)            (None, 32)                2080      \n",
            "                                                                 \n",
            " dense_85 (Dense)            (None, 16)                528       \n",
            "                                                                 \n",
            " dense_86 (Dense)            (None, 1)                 17        \n",
            "                                                                 \n",
            " dense_20 (Dense)            (None, 64)                128       \n",
            "                                                                 \n",
            " dense_21 (Dense)            (None, 32)                2080      \n",
            "                                                                 \n",
            " lambda_15 (Lambda)          multiple                  0         \n",
            "                                                                 \n",
            "=================================================================\n",
            "Total params: 33185 (129.63 KB)\n",
            "Trainable params: 2208 (8.62 KB)\n",
            "Non-trainable params: 30977 (121.00 KB)\n",
            "_________________________________________________________________\n"
          ]
        }
      ]
    },
    {
      "cell_type": "code",
      "source": [
        "import matplotlib.pyplot as plt\n",
        "\n",
        "# Obtener las funciones de pérdida y precisión del historial de entrenamiento\n",
        "loss = history.history['loss']\n",
        "val_loss = history.history['val_loss']\n",
        "#accuracy = history.history['accuracy']  # Solo si estás trabajando en un problema de clasificación\n",
        "\n",
        "# Generar el gráfico de la función de pérdida\n",
        "plt.figure(figsize=(10, 6))\n",
        "plt.plot(loss, label='Train Loss')\n",
        "plt.plot(val_loss, label='Validation Loss')\n",
        "plt.xlabel('Epoch')\n",
        "plt.ylabel('Loss')\n",
        "plt.legend()\n",
        "plt.title('Training and Validation Loss')\n",
        "plt.show()"
      ],
      "metadata": {
        "colab": {
          "base_uri": "https://localhost:8080/",
          "height": 426
        },
        "id": "_ufWgNYDAa_8",
        "outputId": "3f180bda-8d36-4fc1-d619-2a702c1a343b"
      },
      "execution_count": 17,
      "outputs": [
        {
          "output_type": "display_data",
          "data": {
            "text/plain": [
              "<Figure size 1000x600 with 1 Axes>"
            ],
            "image/png": "[encoded data removed]"
          },
          "metadata": {}
        }
      ]
    }
  ]
}