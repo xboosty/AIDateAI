{
  "nbformat": 4,
  "nbformat_minor": 0,
  "metadata": {
    "colab": {
      "provenance": []
    },
    "kernelspec": {
      "name": "python3",
      "display_name": "Python 3"
    },
    "language_info": {
      "name": "python"
    }
  },
  "cells": [
    {
      "cell_type": "code",
      "execution_count": 19,
      "metadata": {
        "colab": {
          "base_uri": "https://localhost:8080/"
        },
        "id": "UZVHcoWR9RWw",
        "outputId": "307a6c4b-57fa-4804-a5fc-c704bfa24e16"
      },
      "outputs": [
        {
          "output_type": "stream",
          "name": "stdout",
          "text": [
            "Drive already mounted at /content/drive; to attempt to forcibly remount, call drive.mount(\"/content/drive\", force_remount=True).\n",
            "Epoch 1/80\n",
            "32/32 [==============================] - 1s 10ms/step - loss: 28.3273 - val_loss: 9.9856\n",
            "Epoch 2/80\n",
            "32/32 [==============================] - 0s 5ms/step - loss: 5.8089 - val_loss: 7.4858\n",
            "Epoch 3/80\n",
            "32/32 [==============================] - 0s 5ms/step - loss: 5.0118 - val_loss: 7.2680\n",
            "Epoch 4/80\n",
            "32/32 [==============================] - 0s 4ms/step - loss: 4.7595 - val_loss: 7.2733\n",
            "Epoch 5/80\n",
            "32/32 [==============================] - 0s 4ms/step - loss: 4.5894 - val_loss: 7.3306\n",
            "Epoch 6/80\n",
            "32/32 [==============================] - 0s 4ms/step - loss: 4.4780 - val_loss: 7.2480\n",
            "Epoch 7/80\n",
            "32/32 [==============================] - 0s 4ms/step - loss: 4.3578 - val_loss: 7.1936\n",
            "Epoch 8/80\n",
            "32/32 [==============================] - 0s 5ms/step - loss: 4.2658 - val_loss: 7.3029\n",
            "Epoch 9/80\n",
            "32/32 [==============================] - 0s 5ms/step - loss: 4.1824 - val_loss: 7.3141\n",
            "Epoch 10/80\n",
            "32/32 [==============================] - 0s 5ms/step - loss: 4.1687 - val_loss: 7.4359\n",
            "Epoch 11/80\n",
            "32/32 [==============================] - 0s 5ms/step - loss: 4.0576 - val_loss: 7.3780\n",
            "Epoch 12/80\n",
            "32/32 [==============================] - 0s 5ms/step - loss: 3.9954 - val_loss: 7.4705\n",
            "Epoch 13/80\n",
            "32/32 [==============================] - 0s 5ms/step - loss: 3.9236 - val_loss: 7.4655\n",
            "Epoch 14/80\n",
            "32/32 [==============================] - 0s 5ms/step - loss: 3.8826 - val_loss: 7.4408\n",
            "Epoch 15/80\n",
            "32/32 [==============================] - 0s 4ms/step - loss: 3.8757 - val_loss: 7.2860\n",
            "Epoch 16/80\n",
            "32/32 [==============================] - 0s 4ms/step - loss: 3.8333 - val_loss: 7.3898\n",
            "Epoch 17/80\n",
            "32/32 [==============================] - 0s 5ms/step - loss: 3.7927 - val_loss: 7.6058\n"
          ]
        },
        {
          "output_type": "stream",
          "name": "stderr",
          "text": [
            "/usr/local/lib/python3.10/dist-packages/keras/src/engine/training.py:3079: UserWarning: You are saving your model as an HDF5 file via `model.save()`. This file format is considered legacy. We recommend using instead the native Keras format, e.g. `model.save('my_model.keras')`.\n",
            "  saving_api.save_model(\n"
          ]
        }
      ],
      "source": [
        "from tensorflow.keras.models import load_model, Sequential\n",
        "from tensorflow.keras.layers import Dense\n",
        "from tensorflow.keras.optimizers import Adam\n",
        "import pandas as pd\n",
        "import ast\n",
        "import numpy as np\n",
        "from tensorflow import keras\n",
        "import tensorflow as tf\n",
        "\n",
        "# Montar Google Drive si aún no está montado\n",
        "from google.colab import drive\n",
        "drive.mount('/content/drive')\n",
        "\n",
        "# Cargar el dataset desde Google Drive\n",
        "dataset_path = '/content/drive/My Drive/compatibility_dataset/compatibility_dataset_len76.csv'\n",
        "\n",
        "# Cargar el modelo desde el archivo .h5\n",
        "model = load_model('modelo.h5')\n",
        "\n",
        "# Congelar todas las capas del modelo\n",
        "for layer in model.layers[:-1]:\n",
        "    layer.trainable = False\n",
        "\n",
        "# Cargar el nuevo dataset\n",
        "new_df = pd.read_csv(dataset_path)\n",
        "\n",
        "# Preparar los nuevos datos de entrada y salida\n",
        "def flatten_and_convert(row):\n",
        "    try:\n",
        "        offers_A = ast.literal_eval(row['offers_A'])\n",
        "        demands_A = ast.literal_eval(row['demands_A'])\n",
        "        offers_B = ast.literal_eval(row['offers_B'])\n",
        "        demands_B = ast.literal_eval(row['demands_B'])\n",
        "\n",
        "        flat_data = np.concatenate([offers_A, demands_A, offers_B, demands_B])\n",
        "        return flat_data.astype(np.int32)\n",
        "    except:\n",
        "        return None\n",
        "\n",
        "new_X = new_df.apply(flatten_and_convert, axis=1).dropna().values\n",
        "new_y = new_df['compatibility_percent'].dropna().values\n",
        "\n",
        "# Crear un nuevo modelo\n",
        "new_model = Sequential()\n",
        "\n",
        "# Añadir todas las capas del modelo existente excepto la última\n",
        "for layer in model.layers[:-1]:\n",
        "    new_model.add(layer)\n",
        "\n",
        "# Añadir nuevas capas\n",
        "new_model.add(keras.layers.Dense(64, activation='relu', name='dense_transfer_1'))\n",
        "new_model.add(keras.layers.Dropout(0.1, name='dropout_transfer_1'))\n",
        "new_model.add(keras.layers.Dense(32, activation='relu', name='dense_transfer_2'))\n",
        "\n",
        "# Capa de similitud\n",
        "new_model.add(keras.layers.Dense(1, activation='linear', name='similitud_transfer'))\n",
        "\n",
        "# Capa de salida para limitar la salida en el rango de 0 a 100\n",
        "new_model.add(keras.layers.Lambda(lambda x: tf.clip_by_value(x, 0, 100), name='output_transfer'))\n",
        "\n",
        "# Reduce la tasa de aprendizaje\n",
        "custom_optimizer = Adam(learning_rate=0.001)\n",
        "\n",
        "# Compilar el nuevo modelo\n",
        "#new_model.compile(loss='mean_squared_error', optimizer=custom_optimizer)\n",
        "new_model.compile(loss='mean_absolute_error', optimizer=custom_optimizer)\n",
        "\n",
        "\n",
        "# Convertir las matrices NumPy en tensores de TensorFlow\n",
        "new_X_tf = tf.constant(new_X.tolist())\n",
        "new_y_tf = tf.constant(new_y)\n",
        "\n",
        "# Controla el entrenamiento según la convergencia\n",
        "early_stopping = keras.callbacks.EarlyStopping(monitor='val_loss', patience=10)\n",
        "\n",
        "# Entrenar el nuevo modelo con los nuevos datos\n",
        "history = new_model.fit(new_X_tf, new_y_tf, batch_size=128, epochs=80, validation_split=0.2, callbacks=[early_stopping])\n",
        "\n",
        "# Guardar el nuevo modelo\n",
        "new_model.save('score_model_with_transferlearning.h5')"
      ]
    },
    {
      "cell_type": "code",
      "source": [
        "# Construir el modelo manualmente\n",
        "new_model.build(input_shape=(None, 152))\n",
        "\n",
        "# Resumen del modelo\n",
        "new_model.summary()"
      ],
      "metadata": {
        "colab": {
          "base_uri": "https://localhost:8080/"
        },
        "id": "HSMimvwGLhYW",
        "outputId": "b1425d9d-e4ef-4b0d-bb24-720f12606463"
      },
      "execution_count": 21,
      "outputs": [
        {
          "output_type": "stream",
          "name": "stdout",
          "text": [
            "Model: \"sequential_9\"\n",
            "_________________________________________________________________\n",
            " Layer (type)                Output Shape              Param #   \n",
            "=================================================================\n",
            " dense (Dense)               (None, 128)               19584     \n",
            "                                                                 \n",
            " batch_normalization (Batch  (None, 128)               512       \n",
            " Normalization)                                                  \n",
            "                                                                 \n",
            " dropout (Dropout)           (None, 128)               0         \n",
            "                                                                 \n",
            " dense_1 (Dense)             (None, 64)                8256      \n",
            "                                                                 \n",
            " dense_2 (Dense)             (None, 32)                2080      \n",
            "                                                                 \n",
            " dense_3 (Dense)             (None, 16)                528       \n",
            "                                                                 \n",
            " dense_4 (Dense)             (None, 1)                 17        \n",
            "                                                                 \n",
            " dense_transfer_1 (Dense)    (None, 64)                128       \n",
            "                                                                 \n",
            " dropout_transfer_1 (Dropou  (None, 64)                0         \n",
            " t)                                                              \n",
            "                                                                 \n",
            " dense_transfer_2 (Dense)    (None, 32)                2080      \n",
            "                                                                 \n",
            " similitud_transfer (Dense)  (None, 1)                 33        \n",
            "                                                                 \n",
            " output_transfer (Lambda)    (None, 1)                 0         \n",
            "                                                                 \n",
            "=================================================================\n",
            "Total params: 33218 (129.76 KB)\n",
            "Trainable params: 2241 (8.75 KB)\n",
            "Non-trainable params: 30977 (121.00 KB)\n",
            "_________________________________________________________________\n"
          ]
        }
      ]
    },
    {
      "cell_type": "code",
      "source": [
        "import matplotlib.pyplot as plt\n",
        "\n",
        "# Obtener las funciones de pérdida y precisión del historial de entrenamiento\n",
        "loss = history.history['loss']\n",
        "val_loss = history.history['val_loss']\n",
        "#accuracy = history.history['accuracy']  # Solo si estás trabajando en un problema de clasificación\n",
        "\n",
        "# Generar el gráfico de la función de pérdida\n",
        "plt.figure(figsize=(10, 6))\n",
        "plt.plot(loss, label='Train Loss')\n",
        "plt.plot(val_loss, label='Validation Loss')\n",
        "plt.xlabel('Epoch')\n",
        "plt.ylabel('Loss')\n",
        "plt.legend()\n",
        "plt.title('Training and Validation Loss')\n",
        "plt.show()"
      ],
      "metadata": {
        "colab": {
          "base_uri": "https://localhost:8080/",
          "height": 564
        },
        "id": "_ufWgNYDAa_8",
        "outputId": "945b516e-4f07-4cf6-8050-4724b6fb173b"
      },
      "execution_count": 22,
      "outputs": [
        {
          "output_type": "display_data",
          "data": {
            "text/plain": [
              "<Figure size 1000x600 with 1 Axes>"
            ],
            "image/png": "[encoded data removed]"
          },
          "metadata": {}
        }
      ]
    }
  ]
}