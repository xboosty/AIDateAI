{
  "nbformat": 4,
  "nbformat_minor": 0,
  "metadata": {
    "colab": {
      "provenance": []
    },
    "kernelspec": {
      "name": "python3",
      "display_name": "Python 3"
    },
    "language_info": {
      "name": "python"
    }
  },
  "cells": [
    {
      "cell_type": "code",
      "source": [
        "import random\n",
        "import tensorflow as tf\n",
        "import numpy as np"
      ],
      "metadata": {
        "id": "JTwr-72ruEL7"
      },
      "execution_count": 1,
      "outputs": []
    },
    {
      "cell_type": "code",
      "execution_count": 2,
      "metadata": {
        "id": "3883_evmtk18"
      },
      "outputs": [],
      "source": [
        "def getvectors_offers_demands(user_idA, user_idB):\n",
        "    offers_A = [random.randint(1, 100) for _ in range(60)]\n",
        "    demands_A = [random.randint(1, 100) for _ in range(16)]\n",
        "    offers_B = [random.randint(1, 100) for _ in range(60)]\n",
        "    demands_B = [random.randint(1, 100) for _ in range(16)]\n",
        "    return offers_A, demands_A, offers_B, demands_B"
      ]
    },
    {
      "cell_type": "code",
      "source": [
        "offers_A, demands_A, offers_B, demands_B = getvectors_offers_demands(1, 2)"
      ],
      "metadata": {
        "id": "oE34iMGAwoAV"
      },
      "execution_count": 17,
      "outputs": []
    },
    {
      "cell_type": "code",
      "source": [
        "model = tf.keras.models.load_model(\"/content/score_model_with_transferlearning.h5\")\n",
        "\n",
        "\n",
        "input_vector = np.concatenate([offers_A, demands_A, offers_B, demands_B])\n",
        "\n",
        "predicted_percentage = model.predict(np.array([input_vector]))\n",
        "print(predicted_percentage[0])"
      ],
      "metadata": {
        "colab": {
          "base_uri": "https://localhost:8080/"
        },
        "id": "WTLDHplwuL8l",
        "outputId": "32aeac09-8c6e-4960-e67d-858e4939fd7a"
      },
      "execution_count": 22,
      "outputs": [
        {
          "output_type": "stream",
          "name": "stdout",
          "text": [
            "1/1 [==============================] - 0s 130ms/step\n",
            "[45.85577]\n"
          ]
        }
      ]
    }
  ]
}